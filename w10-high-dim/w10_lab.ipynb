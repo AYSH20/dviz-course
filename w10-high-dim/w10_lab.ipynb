{
 "cells": [
  {
   "cell_type": "markdown",
   "metadata": {},
   "source": [
    "# W10 Lab Assignment\n",
    "\n",
    "Dive deeper into high dimensional data."
   ]
  },
  {
   "cell_type": "code",
   "execution_count": null,
   "metadata": {
    "collapsed": true
   },
   "outputs": [],
   "source": [
    "import numpy as np\n",
    "import seaborn as sns\n",
    "import pandas as pd\n",
    "import matplotlib.pyplot as plt \n",
    "\n",
    "%matplotlib inline\n",
    "sns.set_style('white')"
   ]
  },
  {
   "cell_type": "markdown",
   "metadata": {},
   "source": [
    "Load the iris dataset."
   ]
  },
  {
   "cell_type": "code",
   "execution_count": null,
   "metadata": {
    "collapsed": false
   },
   "outputs": [],
   "source": [
    "iris = sns.load_dataset('iris')\n",
    "iris.head()"
   ]
  },
  {
   "cell_type": "markdown",
   "metadata": {},
   "source": [
    "We can use the [**`PairGrid()`**](http://seaborn.pydata.org/generated/seaborn.PairGrid.html#seaborn.PairGrid) function to create a grid of subplots to plot relations between pairs of variables. On the diagonal of the grid, we plot the KDE of each variable using the **`map_diag()`** method. And on the off-diagonal subplots, we plot 2-D KDE of pairs of variables using the **`map_offdiag()`** method."
   ]
  },
  {
   "cell_type": "code",
   "execution_count": null,
   "metadata": {
    "collapsed": false
   },
   "outputs": [],
   "source": [
    "g = sns.PairGrid(iris)\n",
    "g.map_diag(sns.kdeplot)\n",
    "g.map_offdiag(sns.kdeplot, n_levels=5) # set the number of contour levels to 5"
   ]
  },
  {
   "cell_type": "markdown",
   "metadata": {},
   "source": [
    "**TODO**: Use [**`PairGrid()`**](http://seaborn.pydata.org/generated/seaborn.PairGrid.html#seaborn.PairGrid) to plot KDE on the diagonal; on the lower diagonal subplots, plot scatter plot between two variables; on the upper diagonal subplots, plot 2-D KDE of two variables."
   ]
  },
  {
   "cell_type": "code",
   "execution_count": null,
   "metadata": {
    "collapsed": false
   },
   "outputs": [],
   "source": [
    "# TODO: on the diagonal: KDE; lower diagonal: scatter plot; upper diagonal: 2-D KDE"
   ]
  },
  {
   "cell_type": "markdown",
   "metadata": {
    "collapsed": false
   },
   "source": [
    "## Parallel coordinates\n",
    "\n",
    "Can be easily created using the [**`parallel_coordinates()`**](http://pandas.pydata.org/pandas-docs/stable/visualization.html#parallel-coordinates) function in pandas."
   ]
  },
  {
   "cell_type": "code",
   "execution_count": null,
   "metadata": {
    "collapsed": false
   },
   "outputs": [],
   "source": [
    "# TODO: draw the parallel coordinates plot with the iris data, and let it use different colors for each iris species. "
   ]
  },
  {
   "cell_type": "markdown",
   "metadata": {},
   "source": [
    "## PCA\n",
    "\n",
    "We will be working on an image dataset called the [Olivetti faces dataset](http://scikit-learn.org/stable/datasets/olivetti_faces.html), which contains a lot of *faces*. Download the data using the [**`fetch_olivetti_faces()`**](http://scikit-learn.org/stable/modules/generated/sklearn.datasets.fetch_olivetti_faces.html) function."
   ]
  },
  {
   "cell_type": "code",
   "execution_count": null,
   "metadata": {
    "collapsed": false
   },
   "outputs": [],
   "source": [
    "from sklearn.datasets import fetch_olivetti_faces\n",
    "\n",
    "dataset = fetch_olivetti_faces(shuffle=True)"
   ]
  },
  {
   "cell_type": "markdown",
   "metadata": {},
   "source": [
    "Get the data:"
   ]
  },
  {
   "cell_type": "code",
   "execution_count": null,
   "metadata": {
    "collapsed": false
   },
   "outputs": [],
   "source": [
    "faces = dataset.data"
   ]
  },
  {
   "cell_type": "code",
   "execution_count": null,
   "metadata": {
    "collapsed": false
   },
   "outputs": [],
   "source": [
    "n_samples, n_features = faces.shape\n",
    "print(n_samples)\n",
    "print(n_features)"
   ]
  },
  {
   "cell_type": "markdown",
   "metadata": {},
   "source": [
    "So, this dataset contains 400 faces, and each of them has 4096 features (=pixels). Let's look at the first face:"
   ]
  },
  {
   "cell_type": "code",
   "execution_count": null,
   "metadata": {
    "collapsed": false
   },
   "outputs": [],
   "source": [
    "faces[0]"
   ]
  },
  {
   "cell_type": "markdown",
   "metadata": {},
   "source": [
    "It's an one-dimensional array with 4096 numbers. Actually, it is a two-dimensional picture. Use `numpy`'s [**`reshape()`**](http://docs.scipy.org/doc/numpy/reference/generated/numpy.reshape.html) function as well as `matplotlib`'s [**`imshow()`**](http://matplotlib.org/api/pyplot_api.html#matplotlib.pyplot.imshow) function, transform this one-dimensional array into an appropriate 2-D matrix and draw it to show the face. You probably want to use `plt.cm.gray` as colormap. \n",
    "\n",
    "Be sure to play with different shapes (e.g. 2 x 2048, 1024 x 4, 128 x 32, and so on) and think about why they look like what they look like. What is the right shape of the matrix?"
   ]
  },
  {
   "cell_type": "code",
   "execution_count": null,
   "metadata": {
    "collapsed": false
   },
   "outputs": [],
   "source": [
    "# TODO: draw faces[0] with various shapes and think about it. Show the correct face. "
   ]
  },
  {
   "cell_type": "markdown",
   "metadata": {},
   "source": [
    "Let's perform PCA on this dataset."
   ]
  },
  {
   "cell_type": "code",
   "execution_count": null,
   "metadata": {
    "collapsed": false
   },
   "outputs": [],
   "source": [
    "from sklearn.decomposition import PCA"
   ]
  },
  {
   "cell_type": "markdown",
   "metadata": {},
   "source": [
    "Set the number of components to 6:"
   ]
  },
  {
   "cell_type": "code",
   "execution_count": null,
   "metadata": {
    "collapsed": false
   },
   "outputs": [],
   "source": [
    "n_components=6\n",
    "pca = PCA(n_components=n_components)"
   ]
  },
  {
   "cell_type": "markdown",
   "metadata": {},
   "source": [
    "Fit the faces data:"
   ]
  },
  {
   "cell_type": "code",
   "execution_count": null,
   "metadata": {
    "collapsed": false
   },
   "outputs": [],
   "source": [
    "pca.fit(faces)"
   ]
  },
  {
   "cell_type": "markdown",
   "metadata": {},
   "source": [
    "PCA has an attribute called `components_`. It is a $\\text{n_components} \\times \\text{n_features}$ matrix, in our case $6 \\times 4096$. Each row is a component."
   ]
  },
  {
   "cell_type": "code",
   "execution_count": null,
   "metadata": {
    "collapsed": false
   },
   "outputs": [],
   "source": [
    "pca.components_"
   ]
  },
  {
   "cell_type": "code",
   "execution_count": null,
   "metadata": {
    "collapsed": false
   },
   "outputs": [],
   "source": [
    "pca.components_.shape"
   ]
  },
  {
   "cell_type": "markdown",
   "metadata": {},
   "source": [
    "We can display the 6 components as images:"
   ]
  },
  {
   "cell_type": "code",
   "execution_count": null,
   "metadata": {
    "collapsed": false
   },
   "outputs": [],
   "source": [
    "for i, comp in enumerate(pca.components_, 1):\n",
    "    plt.subplot(2, 3, i)\n",
    "    plt.imshow(comp.reshape(image_shape), cmap=plt.cm.gray, interpolation='nearest')\n",
    "    plt.xticks(())\n",
    "    plt.yticks(())"
   ]
  },
  {
   "cell_type": "markdown",
   "metadata": {},
   "source": [
    "This means by adding up these 6 images, we can get a close approximation of the 400 images in the dataset. "
   ]
  },
  {
   "cell_type": "markdown",
   "metadata": {},
   "source": [
    "We can get the coordinates of the 6 components to understand how each face is composed with the components."
   ]
  },
  {
   "cell_type": "code",
   "execution_count": null,
   "metadata": {
    "collapsed": false
   },
   "outputs": [],
   "source": [
    "faces_r = pca.transform(faces)"
   ]
  },
  {
   "cell_type": "code",
   "execution_count": null,
   "metadata": {
    "collapsed": false
   },
   "outputs": [],
   "source": [
    "faces_r.shape"
   ]
  },
  {
   "cell_type": "markdown",
   "metadata": {},
   "source": [
    "`faces_r` is a $400 \\times 6$ matrix. Each row corresponds to one face, containing the coordinates of the 6 components. For instance, the coordinates for the first face is"
   ]
  },
  {
   "cell_type": "code",
   "execution_count": null,
   "metadata": {
    "collapsed": false
   },
   "outputs": [],
   "source": [
    "faces_r[0]"
   ]
  },
  {
   "cell_type": "markdown",
   "metadata": {},
   "source": [
    "It seems that the second component (with coordinate 4.14403343) contributes the most to the first face. Let's display them together and see how similar they are:"
   ]
  },
  {
   "cell_type": "code",
   "execution_count": null,
   "metadata": {
    "collapsed": false
   },
   "outputs": [],
   "source": [
    "# display the first face image \n",
    "plt.subplot(1, 2, 1)\n",
    "plt.imshow(faces[0].reshape(image_shape), cmap=plt.cm.gray, interpolation='nearest')\n",
    "plt.xticks(())\n",
    "plt.yticks(())\n",
    "\n",
    "# display the second component\n",
    "plt.subplot(1, 2, 2)\n",
    "plt.imshow(pca.components_[1].reshape(image_shape), cmap=plt.cm.gray, interpolation='nearest')\n",
    "plt.xticks(())\n",
    "plt.yticks(())"
   ]
  },
  {
   "cell_type": "markdown",
   "metadata": {
    "collapsed": true
   },
   "source": [
    "We can display the composition of faces in an \"equation\" style:"
   ]
  },
  {
   "cell_type": "code",
   "execution_count": null,
   "metadata": {
    "collapsed": false
   },
   "outputs": [],
   "source": [
    "from matplotlib import gridspec\n",
    "\n",
    "def display_image(ax, image):\n",
    "    ax.imshow(image, cmap=plt.cm.gray, interpolation='nearest')\n",
    "    ax.set_xticks(())\n",
    "    ax.set_yticks(())\n",
    "\n",
    "def display_text(ax, text):\n",
    "    ax.text(.5, .5, text, size=12)\n",
    "    ax.axis('off')\n",
    "\n",
    "face_idx = 0\n",
    "\n",
    "plt.figure(figsize=(16,4))\n",
    "gs = gridspec.GridSpec(2, 10, width_ratios=[5,1,1,5,1,1,5,1,1,5])\n",
    "\n",
    "# display the face\n",
    "ax = plt.subplot(gs[0])\n",
    "display_image(ax, faces[face_idx].reshape(image_shape))\n",
    "\n",
    "# display the equal sign\n",
    "ax = plt.subplot(gs[1])\n",
    "display_text(ax, r'$=$')\n",
    "\n",
    "# display the 6 coordinates\n",
    "for coord_i, gs_i in enumerate( [2,5,8,12,15,18] ):\n",
    "    ax = plt.subplot(gs[gs_i])\n",
    "    display_text( ax, r'$%.3f \\times $' % faces_r[face_idx][coord_i] )\n",
    "\n",
    "# display the 6 components\n",
    "for comp_i, gs_i in enumerate( [3,6,9,13,16,19] ):\n",
    "    ax = plt.subplot(gs[gs_i])\n",
    "    display_image( ax, pca.components_[comp_i].reshape(image_shape) )\n",
    "\n",
    "# display the plus sign\n",
    "for gs_i in [4,7,11,14,17]:\n",
    "    ax = plt.subplot(gs[gs_i])\n",
    "    display_text(ax, r'$+$')"
   ]
  },
  {
   "cell_type": "markdown",
   "metadata": {},
   "source": [
    "We can directly see the results of this addition. "
   ]
  },
  {
   "cell_type": "code",
   "execution_count": null,
   "metadata": {
    "collapsed": false
   },
   "outputs": [],
   "source": [
    "f, axes = plt.subplots(1, 6, figsize=(16,4))\n",
    "constructed_faces = [-0.816*pca.components_[0] + 4.144*pca.components_[1],\n",
    "                     -0.816*pca.components_[0] + 4.144*pca.components_[1] - 2.483*pca.components_[2],\n",
    "                     -0.816*pca.components_[0] + 4.144*pca.components_[1] - 2.483*pca.components_[2] - 0.903*pca.components_[3],\n",
    "                     -0.816*pca.components_[0] + 4.144*pca.components_[1] - 2.483*pca.components_[2] - 0.903*pca.components_[3] + 0.831*pca.components_[4],\n",
    "                     -0.816*pca.components_[0] + 4.144*pca.components_[1] - 2.483*pca.components_[2] - 0.903*pca.components_[3] + 0.831*pca.components_[4] -0.886*pca.components_[5],\n",
    "                    ]\n",
    "\n",
    "# the face that we want to construct. \n",
    "display_image(axes[0], faces[0].reshape(image_shape))\n",
    "\n",
    "for idx, ax in enumerate(axes[1:]):\n",
    "    display_image(ax, constructed_faces[idx].reshape(image_shape))"
   ]
  },
  {
   "cell_type": "markdown",
   "metadata": {},
   "source": [
    "It becomes more and more real, although quite far with only several components. "
   ]
  },
  {
   "cell_type": "markdown",
   "metadata": {},
   "source": [
    "We can also look at the \"extreme\" faces. First, let's see how the faces are distributed in the two most important dimensions (PC1 and PC2)"
   ]
  },
  {
   "cell_type": "code",
   "execution_count": null,
   "metadata": {
    "collapsed": false
   },
   "outputs": [],
   "source": [
    "sns.jointplot(x = faces_r[:, 0], y = faces_r[:, 1]).set_axis_labels(\"PC1\", \"PC2\")"
   ]
  },
  {
   "cell_type": "markdown",
   "metadata": {},
   "source": [
    "Let's display the face that has the largest and smallest PC1 value. [**`np.argmax()`**](http://docs.scipy.org/doc/numpy/reference/generated/numpy.argmax.html) finds the maximum value in a vector, but returns the index of it, not the value itself. "
   ]
  },
  {
   "cell_type": "code",
   "execution_count": null,
   "metadata": {
    "collapsed": false
   },
   "outputs": [],
   "source": [
    "def pc_faces(pc=1):\n",
    "    idx = pc-1\n",
    "    plt.subplot(1, 3, 1)\n",
    "    plt.title(\"PC{}\".format(pc))\n",
    "    plt.imshow(pca.components_[idx].reshape(image_shape), cmap=plt.cm.gray)\n",
    "    plt.xticks(())\n",
    "    plt.yticks(())\n",
    "\n",
    "    plt.subplot(1, 3, 2)\n",
    "    plt.title(\"Largest PC{}\".format(pc))\n",
    "    plt.imshow(faces[np.argmax(faces_r[:, idx])].reshape(64,64), cmap=plt.cm.gray)\n",
    "    plt.xticks(())\n",
    "    plt.yticks(())\n",
    "\n",
    "    plt.subplot(1,3,3)\n",
    "    plt.title(\"Smallest PC{}\".format(pc))\n",
    "    plt.imshow(faces[np.argmin(faces_r[:, idx])].reshape(64,64), cmap=plt.cm.gray)\n",
    "    plt.xticks(())\n",
    "    plt.yticks(())\n",
    "\n",
    "pc_faces(pc=1)"
   ]
  },
  {
   "cell_type": "markdown",
   "metadata": {},
   "source": [
    "Ok. Maybe this is saying that the glasses are one of the strongest feature in human faces. ;)\n",
    "\n",
    "Why are they kinda similar? The 'largest' face is closest to the PC1 face, while the 'smallest' face is closest to the **inverted** PC1 (it's dark). We can do the same thing with PC2. "
   ]
  },
  {
   "cell_type": "code",
   "execution_count": null,
   "metadata": {
    "collapsed": false
   },
   "outputs": [],
   "source": [
    "pc_faces(2)"
   ]
  },
  {
   "cell_type": "markdown",
   "metadata": {},
   "source": [
    "What does this mean? Maybe this axis captures slightly tilted faces? How about PC3?"
   ]
  },
  {
   "cell_type": "code",
   "execution_count": null,
   "metadata": {
    "collapsed": false
   },
   "outputs": [],
   "source": [
    "pc_faces(3)"
   ]
  },
  {
   "cell_type": "code",
   "execution_count": null,
   "metadata": {
    "collapsed": false
   },
   "outputs": [],
   "source": [
    "pc_faces(4)"
   ]
  },
  {
   "cell_type": "markdown",
   "metadata": {},
   "source": [
    "feminine vs. masculine?"
   ]
  },
  {
   "cell_type": "code",
   "execution_count": null,
   "metadata": {
    "collapsed": false
   },
   "outputs": [],
   "source": [
    "pc_faces(5)"
   ]
  },
  {
   "cell_type": "markdown",
   "metadata": {},
   "source": [
    "Smiling?"
   ]
  },
  {
   "cell_type": "markdown",
   "metadata": {},
   "source": [
    "We can also look at the face that is closest to the origin (most avg face?). [**`np.linalg.norm()`**](http://docs.scipy.org/doc/numpy/reference/generated/numpy.linalg.norm.html) calculates the \"norm\" (size) of a vector or a matrix. By specifying `axis` we can calculate the norm of each row vector. "
   ]
  },
  {
   "cell_type": "code",
   "execution_count": null,
   "metadata": {
    "collapsed": false
   },
   "outputs": [],
   "source": [
    "most_avg_face = faces[ np.argmin(np.linalg.norm(faces, axis=1)) ]\n",
    "plt.imshow(most_avg_face.reshape(image_shape), cmap=plt.cm.gray)"
   ]
  }
 ],
 "metadata": {
  "kernelspec": {
   "display_name": "Python 3",
   "language": "python",
   "name": "python3"
  },
  "language_info": {
   "codemirror_mode": {
    "name": "ipython",
    "version": 3
   },
   "file_extension": ".py",
   "mimetype": "text/x-python",
   "name": "python",
   "nbconvert_exporter": "python",
   "pygments_lexer": "ipython3",
   "version": "3.5.0"
  }
 },
 "nbformat": 4,
 "nbformat_minor": 0
}
