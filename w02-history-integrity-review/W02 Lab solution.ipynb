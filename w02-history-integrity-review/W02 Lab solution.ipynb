{
 "cells": [
  {
   "cell_type": "markdown",
   "metadata": {},
   "source": [
    "# Q1: how many movies released in each year?"
   ]
  },
  {
   "cell_type": "code",
   "execution_count": null,
   "metadata": {
    "collapsed": false
   },
   "outputs": [],
   "source": [
    "import csv\n",
    "from itertools import islice\n",
    "from collections import Counter\n",
    "\n",
    "# You can do \n",
    "# f = open('imdb.csv')\n",
    "# reader = csv.reader(f, delimimter='\\t')\n",
    "\n",
    "movie_counter = Counter()\n",
    "with open('imdb.csv') as f:\n",
    "    reader = csv.reader(f, delimiter='\\t')\n",
    "    for row in islice(reader, 1, None):\n",
    "        movie_counter[int(row[1])] += 1\n",
    "\n",
    "for year, count in movie_counter.items():\n",
    "    print(year, count)\n"
   ]
  },
  {
   "cell_type": "markdown",
   "metadata": {},
   "source": [
    "Actually if you use `Counter` and list magic, you can do it with the following one-liner. ;)"
   ]
  },
  {
   "cell_type": "code",
   "execution_count": null,
   "metadata": {
    "collapsed": false,
    "scrolled": false
   },
   "outputs": [],
   "source": [
    "Counter(x.split('\\t')[1] for x in islice(open('imdb.csv'), 1, None))"
   ]
  },
  {
   "cell_type": "markdown",
   "metadata": {},
   "source": [
    "# Q2: Average ratings and votes"
   ]
  },
  {
   "cell_type": "code",
   "execution_count": 16,
   "metadata": {
    "collapsed": false
   },
   "outputs": [
    {
     "name": "stdout",
     "output_type": "stream",
     "text": [
      "Average rating: 6.29619534138\n",
      "Average number of votes: 1691.2317746\n"
     ]
    }
   ],
   "source": [
    "import numpy as np\n",
    "\n",
    "ratings = []\n",
    "votes = []\n",
    "with open('imdb.csv') as f:\n",
    "    reader = csv.reader(f, delimiter='\\t')\n",
    "    for row in islice(reader, 1, None):\n",
    "        ratings.append(float(row[2]))\n",
    "        votes.append(int(row[3]))\n",
    "\n",
    "print(\"Average rating:\", np.mean(ratings))\n",
    "print(\"Average number of votes:\", np.mean(votes))"
   ]
  },
  {
   "cell_type": "markdown",
   "metadata": {},
   "source": [
    "If you're crazy..."
   ]
  },
  {
   "cell_type": "code",
   "execution_count": 31,
   "metadata": {
    "collapsed": false
   },
   "outputs": [
    {
     "data": {
      "text/plain": [
       "[6.2961953413777811, 1691.2317746021706]"
      ]
     },
     "execution_count": 31,
     "metadata": {},
     "output_type": "execute_result"
    }
   ],
   "source": [
    "list(map(np.mean, (zip(*[(float(x.split('\\t')[2]), int(x.split('\\t')[3])) for x in islice(open('imdb.csv'), 1, None)]))))"
   ]
  },
  {
   "cell_type": "markdown",
   "metadata": {},
   "source": [
    "# Q3: Top 10 movies"
   ]
  },
  {
   "cell_type": "code",
   "execution_count": 39,
   "metadata": {
    "collapsed": false
   },
   "outputs": [
    {
     "name": "stdout",
     "output_type": "stream",
     "text": [
      "[('Adolfo Perez Esquivel: Rivers of Hope', 9.9),\n",
      " ('Girls Loving Girls', 9.8),\n",
      " ('High-Rise', 9.8),\n",
      " ('The Red Shirt Diaries', 9.8),\n",
      " ('Mari White Presents the Newsboys', 9.7),\n",
      " ('A New Born', 9.6),\n",
      " ('The Cafeteria', 9.6),\n",
      " ('Band of Brothers', 9.6),\n",
      " ('TVF Pitchers', 9.5),\n",
      " ('Planet Earth', 9.5)]\n",
      "[('The Shawshank Redemption', 1511933),\n",
      " ('The Dark Knight', 1487023),\n",
      " ('Inception', 1285905),\n",
      " ('Fight Club', 1189053),\n",
      " ('Pulp Fiction', 1177471),\n",
      " ('The Lord of the Rings: The Fellowship of the Ring', 1108361),\n",
      " ('Forrest Gump', 1090430),\n",
      " ('The Lord of the Rings: The Return of the King', 1083793),\n",
      " ('The Matrix', 1083405),\n",
      " ('The Godfather', 1036276)]\n"
     ]
    }
   ],
   "source": [
    "movie_rating = {}\n",
    "movie_vote = {}\n",
    "\n",
    "with open('imdb.csv') as f:\n",
    "    reader = csv.reader(f, delimiter='\\t')\n",
    "    for row in islice(reader, 1, None):\n",
    "        movie_rating[row[0]] = float(row[2])\n",
    "        movie_vote[row[0]] = int(row[3])\n",
    "        \n",
    "# a little bit more succinct way to sort by values with an anonymous function\n",
    "pprint(sorted(movie_rating.items(), key=lambda x: x[1], reverse=True)[:10])\n",
    "pprint(sorted(movie_vote.items(), key=lambda x: x[1], reverse=True)[:10])\n",
    "\n",
    "# this is totally fine\n",
    "#import operator\n",
    "#sorted(movie_rating.items(), key=operator.itemgetter(1), reverse=True)"
   ]
  },
  {
   "cell_type": "code",
   "execution_count": 42,
   "metadata": {
    "collapsed": false
   },
   "outputs": [
    {
     "data": {
      "text/plain": [
       "[('Adolfo Perez Esquivel: Rivers of Hope', 9.9),\n",
       " ('The Red Shirt Diaries', 9.8),\n",
       " ('Girls Loving Girls', 9.8),\n",
       " ('High-Rise', 9.8),\n",
       " ('Mari White Presents the Newsboys', 9.7),\n",
       " ('Band of Brothers', 9.6),\n",
       " ('A New Born', 9.6),\n",
       " ('The Cafeteria', 9.6),\n",
       " ('Breaking Bad', 9.5),\n",
       " ('Game of Thrones', 9.5)]"
      ]
     },
     "execution_count": 42,
     "metadata": {},
     "output_type": "execute_result"
    }
   ],
   "source": [
    "sorted([(x.split('\\t')[0], float(x.split('\\t')[2])) for x in islice(open('imdb.csv'), 1, None)], key=lambda x: x[1], reverse=True)[:10]"
   ]
  },
  {
   "cell_type": "code",
   "execution_count": 43,
   "metadata": {
    "collapsed": false
   },
   "outputs": [
    {
     "data": {
      "text/plain": [
       "[('The Shawshank Redemption', 1511933),\n",
       " ('The Dark Knight', 1487023),\n",
       " ('Inception', 1285905),\n",
       " ('Fight Club', 1189053),\n",
       " ('Pulp Fiction', 1177471),\n",
       " ('The Lord of the Rings: The Fellowship of the Ring', 1108361),\n",
       " ('Forrest Gump', 1090430),\n",
       " ('The Lord of the Rings: The Return of the King', 1083793),\n",
       " ('The Matrix', 1083405),\n",
       " ('The Godfather', 1036276)]"
      ]
     },
     "execution_count": 43,
     "metadata": {},
     "output_type": "execute_result"
    }
   ],
   "source": [
    "sorted([(x.split('\\t')[0], int(x.split('\\t')[3])) for x in islice(open('imdb.csv'), 1, None)], key=lambda x: x[1], reverse=True)[:10]"
   ]
  },
  {
   "cell_type": "markdown",
   "metadata": {},
   "source": [
    "How many movies in the top 10 rating list do you know? They have very high average rating but they may have a very small number of votes. For instance, the first one only has 9 ratings. (compare with The Shawshank Redemption with more than 1.5 million votes). "
   ]
  },
  {
   "cell_type": "code",
   "execution_count": 52,
   "metadata": {
    "collapsed": false
   },
   "outputs": [
    {
     "data": {
      "text/plain": [
       "9"
      ]
     },
     "execution_count": 52,
     "metadata": {},
     "output_type": "execute_result"
    }
   ],
   "source": [
    "movie_vote['Adolfo Perez Esquivel: Rivers of Hope']"
   ]
  },
  {
   "cell_type": "markdown",
   "metadata": {},
   "source": [
    "One very simple way to mitigate this problem is using [Bayesian average](http://fulmicoton.com/posts/bayesian_rating/). It 'corrects' the average star rating based on prior belief. For instance, if we assume that the default rating is about 3.2 (`m`) and we have some confidence (`C`), then we can get more meaningful list. You can play with the two parameters. You'll notice that it's fairly robust. "
   ]
  },
  {
   "cell_type": "code",
   "execution_count": 57,
   "metadata": {
    "collapsed": false
   },
   "outputs": [
    {
     "data": {
      "text/plain": [
       "[('Band of Brothers', 9.599825268376852),\n",
       " ('Game of Thrones', 9.499962219706202),\n",
       " ('Breaking Bad', 9.499956854988932),\n",
       " ('Planet Earth', 9.499611135115117),\n",
       " ('TVF Pitchers', 9.484002031488066),\n",
       " ('The Wire', 9.399808900313774),\n",
       " ('Cosmos: A Spacetime Odyssey', 9.399215110390926),\n",
       " ('Hababam Sinifi', 9.39864391951006),\n",
       " ('The Civil War', 9.393290043290044),\n",
       " ('The Beatles Anthology', 9.391899660308336),\n",
       " ('Sarabhai vs Sarabhai', 9.391766268260293),\n",
       " ('The Shawshank Redemption', 9.299979827215138),\n",
       " ('Sherlock', 9.299924929174985),\n",
       " ('CM101MMXI Fundamentals', 9.299095277645943),\n",
       " ('Pink Floyd: P. U. L. S. E. Live at Earls Court', 9.290489554100406),\n",
       " ('WARx2', 9.28621157323689),\n",
       " ('Two Down', 9.26980198019802),\n",
       " ('The Godfather', 9.199971050323223),\n",
       " ('True Detective', 9.199888282719199),\n",
       " ('The Sopranos', 9.19981641382771)]"
      ]
     },
     "execution_count": 57,
     "metadata": {},
     "output_type": "execute_result"
    }
   ],
   "source": [
    "def bayes_avg(num_rating, avg_rating, C=5, m=3.2):\n",
    "    return (C*m + num_rating*avg_rating)/(C + num_rating)\n",
    "\n",
    "movie_bayes_rating = {}\n",
    "for movie in movie_rating:\n",
    "    movie_bayes_rating[movie] = bayes_avg(movie_vote[movie], movie_rating[movie])\n",
    "    \n",
    "sorted(movie_bayes_rating.items(), key=lambda x: x[1], reverse=True)[:20]"
   ]
  },
  {
   "cell_type": "code",
   "execution_count": null,
   "metadata": {
    "collapsed": true
   },
   "outputs": [],
   "source": []
  }
 ],
 "metadata": {
  "kernelspec": {
   "display_name": "Python 3",
   "language": "python",
   "name": "python3"
  },
  "language_info": {
   "codemirror_mode": {
    "name": "ipython",
    "version": 3
   },
   "file_extension": ".py",
   "mimetype": "text/x-python",
   "name": "python",
   "nbconvert_exporter": "python",
   "pygments_lexer": "ipython3",
   "version": "3.4.3"
  }
 },
 "nbformat": 4,
 "nbformat_minor": 0
}
