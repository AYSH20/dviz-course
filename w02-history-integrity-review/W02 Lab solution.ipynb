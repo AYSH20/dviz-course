{
 "cells": [
  {
   "cell_type": "markdown",
   "metadata": {},
   "source": [
    "# Q1: how many movies released in each year?"
   ]
  },
  {
   "cell_type": "code",
   "execution_count": 10,
   "metadata": {
    "collapsed": false
   },
   "outputs": [],
   "source": [
    "import csv\n",
    "from itertools import islice\n",
    "from collections import Counter\n",
    "from pprint import pprint\n",
    "\n",
    "# You can do \n",
    "# f = open('imdb.csv')\n",
    "# reader = csv.reader(f, delimimter='\\t')\n",
    "\n",
    "movie_counter = Counter()\n",
    "with open('imdb.csv') as f:\n",
    "    reader = csv.reader(f, delimiter='\\t')\n",
    "    for row in islice(reader, 1, None):\n",
    "        movie_counter[int(row[1])] += 1\n",
    "\n",
    "for year, count in movie_counter.items():\n",
    "    # print(year, count)\n",
    "    pass\n"
   ]
  },
  {
   "cell_type": "markdown",
   "metadata": {},
   "source": [
    "Actually if you use `Counter` and list magic, you can do it with the following one-liner. ;)"
   ]
  },
  {
   "cell_type": "code",
   "execution_count": 11,
   "metadata": {
    "collapsed": false,
    "scrolled": false
   },
   "outputs": [
    {
     "data": {
      "text/plain": [
       "Counter({'2011': 13944, '2012': 13887, '2013': 13048, '2010': 12931, '2009': 12268, '2008': 11095, '2014': 10862, '2007': 10147, '2006': 10115, '2005': 9508, '2004': 8584, '2003': 7355, '2002': 6694, '2001': 6042, '2000': 5575, '1999': 5138, '1998': 4651, '2015': 4402, '1997': 4353, '1996': 3923, '1995': 3698, '1994': 3415, '1989': 3193, '1992': 3136, '1993': 3128, '1990': 3093, '1988': 3054, '1987': 3049, '1991': 2993, '1985': 2908, '1986': 2882, '1984': 2779, '1983': 2647, '1982': 2537, '1979': 2526, '1981': 2485, '1972': 2445, '1980': 2438, '1976': 2399, '1974': 2392, '1978': 2386, '1971': 2370, '1973': 2325, '1969': 2320, '1975': 2286, '1977': 2264, '1970': 2240, '1968': 2199, '1967': 2086, '1966': 2025, '1965': 1896, '1964': 1823, '1962': 1669, '1963': 1635, '1961': 1623, '1957': 1604, '1959': 1572, '1960': 1567, '1958': 1533, '1956': 1479, '1955': 1476, '1954': 1397, '1953': 1393, '1951': 1318, '1952': 1316, '1950': 1283, '1937': 1245, '1936': 1235, '1938': 1230, '1949': 1208, '1942': 1193, '1935': 1174, '1941': 1169, '1939': 1162, '1940': 1160, '1934': 1120, '1943': 1105, '1948': 1084, '1932': 1026, '1933': 1024, '1947': 1010, '1944': 969, '1946': 952, '1931': 939, '1945': 876, '1930': 836, '1896': 678, '1929': 671, '1928': 609, '1927': 581, '1926': 554, '1925': 508, '1897': 479, '1924': 466, '1909': 405, '1923': 393, '1910': 389, '1912': 376, '1915': 361, '1921': 345, '1922': 328, '1916': 328, '1920': 323, '1898': 321, '1917': 317, '1914': 315, '1919': 313, '1913': 311, '1911': 309, '1918': 286, '1908': 267, '1900': 265, '1903': 261, '1901': 254, '1899': 242, '1902': 217, '1904': 214, '1907': 197, '1906': 182, '1905': 177, '1895': 116, '1894': 94, '1891': 9, '1892': 9, '1890': 5, '1888': 5, '1889': 2, '2016': 2, '1893': 2, '1887': 1, '1878': 1, '2017': 1, '1874': 1})"
      ]
     },
     "execution_count": 11,
     "metadata": {},
     "output_type": "execute_result"
    }
   ],
   "source": [
    "Counter(x.split('\\t')[1] for x in islice(open('imdb.csv'), 1, None))"
   ]
  },
  {
   "cell_type": "markdown",
   "metadata": {},
   "source": [
    "# Q2: Average ratings and votes"
   ]
  },
  {
   "cell_type": "code",
   "execution_count": 12,
   "metadata": {
    "collapsed": false
   },
   "outputs": [
    {
     "name": "stdout",
     "output_type": "stream",
     "text": [
      "Average rating: 6.29619534138\n",
      "Average number of votes: 1691.2317746\n"
     ]
    }
   ],
   "source": [
    "import numpy as np\n",
    "\n",
    "ratings = []\n",
    "votes = []\n",
    "with open('imdb.csv') as f:\n",
    "    reader = csv.reader(f, delimiter='\\t')\n",
    "    for row in islice(reader, 1, None):\n",
    "        ratings.append(float(row[2]))\n",
    "        votes.append(int(row[3]))\n",
    "\n",
    "print(\"Average rating:\", np.mean(ratings))\n",
    "print(\"Average number of votes:\", np.mean(votes))"
   ]
  },
  {
   "cell_type": "markdown",
   "metadata": {},
   "source": [
    "If you're crazy..."
   ]
  },
  {
   "cell_type": "code",
   "execution_count": 13,
   "metadata": {
    "collapsed": false
   },
   "outputs": [
    {
     "data": {
      "text/plain": [
       "[6.2961953413777811, 1691.2317746021706]"
      ]
     },
     "execution_count": 13,
     "metadata": {},
     "output_type": "execute_result"
    }
   ],
   "source": [
    "list(map(np.mean, (zip(*[(float(x.split('\\t')[2]), int(x.split('\\t')[3])) for x in islice(open('imdb.csv'), 1, None)]))))"
   ]
  },
  {
   "cell_type": "markdown",
   "metadata": {},
   "source": [
    "# Q3: Top 10 movies"
   ]
  },
  {
   "cell_type": "code",
   "execution_count": 14,
   "metadata": {
    "collapsed": false
   },
   "outputs": [
    {
     "name": "stdout",
     "output_type": "stream",
     "text": [
      "[('Adolfo Perez Esquivel: Rivers of Hope', 9.9),\n",
      " ('Girls Loving Girls', 9.8),\n",
      " ('High-Rise', 9.8),\n",
      " ('The Red Shirt Diaries', 9.8),\n",
      " ('Mari White Presents the Newsboys', 9.7),\n",
      " ('The Cafeteria', 9.6),\n",
      " ('A New Born', 9.6),\n",
      " ('Band of Brothers', 9.6),\n",
      " ('Breaking Bad', 9.5),\n",
      " ('TVF Pitchers', 9.5)]\n",
      "[('The Shawshank Redemption', 1511933),\n",
      " ('The Dark Knight', 1487023),\n",
      " ('Inception', 1285905),\n",
      " ('Fight Club', 1189053),\n",
      " ('Pulp Fiction', 1177471),\n",
      " ('The Lord of the Rings: The Fellowship of the Ring', 1108361),\n",
      " ('Forrest Gump', 1090430),\n",
      " ('The Lord of the Rings: The Return of the King', 1083793),\n",
      " ('The Matrix', 1083405),\n",
      " ('The Godfather', 1036276)]\n"
     ]
    }
   ],
   "source": [
    "movie_rating = {}\n",
    "movie_vote = {}\n",
    "\n",
    "with open('imdb.csv') as f:\n",
    "    reader = csv.reader(f, delimiter='\\t')\n",
    "    for row in islice(reader, 1, None):\n",
    "        movie_rating[row[0]] = float(row[2])\n",
    "        movie_vote[row[0]] = int(row[3])\n",
    "        \n",
    "# a little bit more succinct way to sort by values with an anonymous function\n",
    "pprint(sorted(movie_rating.items(), key=lambda x: x[1], reverse=True)[:10])\n",
    "pprint(sorted(movie_vote.items(), key=lambda x: x[1], reverse=True)[:10])\n",
    "\n",
    "# this is totally fine\n",
    "#import operator\n",
    "#sorted(movie_rating.items(), key=operator.itemgetter(1), reverse=True)"
   ]
  },
  {
   "cell_type": "code",
   "execution_count": 15,
   "metadata": {
    "collapsed": false
   },
   "outputs": [
    {
     "data": {
      "text/plain": [
       "[('Adolfo Perez Esquivel: Rivers of Hope', 9.9),\n",
       " ('The Red Shirt Diaries', 9.8),\n",
       " ('Girls Loving Girls', 9.8),\n",
       " ('High-Rise', 9.8),\n",
       " ('Mari White Presents the Newsboys', 9.7),\n",
       " ('Band of Brothers', 9.6),\n",
       " ('A New Born', 9.6),\n",
       " ('The Cafeteria', 9.6),\n",
       " ('Breaking Bad', 9.5),\n",
       " ('Game of Thrones', 9.5)]"
      ]
     },
     "execution_count": 15,
     "metadata": {},
     "output_type": "execute_result"
    }
   ],
   "source": [
    "sorted([(x.split('\\t')[0], float(x.split('\\t')[2])) for x in islice(open('imdb.csv'), 1, None)], key=lambda x: x[1], reverse=True)[:10]"
   ]
  },
  {
   "cell_type": "code",
   "execution_count": 16,
   "metadata": {
    "collapsed": false
   },
   "outputs": [
    {
     "data": {
      "text/plain": [
       "[('The Shawshank Redemption', 1511933),\n",
       " ('The Dark Knight', 1487023),\n",
       " ('Inception', 1285905),\n",
       " ('Fight Club', 1189053),\n",
       " ('Pulp Fiction', 1177471),\n",
       " ('The Lord of the Rings: The Fellowship of the Ring', 1108361),\n",
       " ('Forrest Gump', 1090430),\n",
       " ('The Lord of the Rings: The Return of the King', 1083793),\n",
       " ('The Matrix', 1083405),\n",
       " ('The Godfather', 1036276)]"
      ]
     },
     "execution_count": 16,
     "metadata": {},
     "output_type": "execute_result"
    }
   ],
   "source": [
    "sorted([(x.split('\\t')[0], int(x.split('\\t')[3])) for x in islice(open('imdb.csv'), 1, None)], key=lambda x: x[1], reverse=True)[:10]"
   ]
  },
  {
   "cell_type": "markdown",
   "metadata": {},
   "source": [
    "How many movies in the top 10 rating list do you know? They have very high average rating but they may have a very small number of votes. For instance, the first one only has 9 ratings. (compare with The Shawshank Redemption with more than 1.5 million votes). "
   ]
  },
  {
   "cell_type": "code",
   "execution_count": 17,
   "metadata": {
    "collapsed": false
   },
   "outputs": [
    {
     "data": {
      "text/plain": [
       "9"
      ]
     },
     "execution_count": 17,
     "metadata": {},
     "output_type": "execute_result"
    }
   ],
   "source": [
    "movie_vote['Adolfo Perez Esquivel: Rivers of Hope']"
   ]
  },
  {
   "cell_type": "markdown",
   "metadata": {},
   "source": [
    "One very simple way to mitigate this problem is using [Bayesian average](http://fulmicoton.com/posts/bayesian_rating/). It 'corrects' the average star rating based on prior belief. For instance, if we assume that the default rating is about 3.2 (`m`) and we have some confidence (`C`), then we can get more meaningful list. You can play with the two parameters. You'll notice that it's fairly robust. "
   ]
  },
  {
   "cell_type": "code",
   "execution_count": 18,
   "metadata": {
    "collapsed": false
   },
   "outputs": [
    {
     "data": {
      "text/plain": [
       "[('Band of Brothers', 9.599825268376852),\n",
       " ('Game of Thrones', 9.499962219706202),\n",
       " ('Breaking Bad', 9.499956854988932),\n",
       " ('Planet Earth', 9.499611135115117),\n",
       " ('TVF Pitchers', 9.484002031488066),\n",
       " ('The Wire', 9.399808900313774),\n",
       " ('Cosmos: A Spacetime Odyssey', 9.399215110390926),\n",
       " ('Hababam Sinifi', 9.39864391951006),\n",
       " ('The Civil War', 9.393290043290044),\n",
       " ('The Beatles Anthology', 9.391899660308336),\n",
       " ('Sarabhai vs Sarabhai', 9.391766268260293),\n",
       " ('The Shawshank Redemption', 9.299979827215138),\n",
       " ('Sherlock', 9.299924929174985),\n",
       " ('CM101MMXI Fundamentals', 9.299095277645943),\n",
       " ('Pink Floyd: P. U. L. S. E. Live at Earls Court', 9.290489554100406),\n",
       " ('WARx2', 9.28621157323689),\n",
       " ('Two Down', 9.26980198019802),\n",
       " ('The Godfather', 9.199971050323223),\n",
       " ('True Detective', 9.199888282719199),\n",
       " ('The Sopranos', 9.19981641382771)]"
      ]
     },
     "execution_count": 18,
     "metadata": {},
     "output_type": "execute_result"
    }
   ],
   "source": [
    "def bayes_avg(num_rating, avg_rating, C=5, m=3.2):\n",
    "    return (C*m + num_rating*avg_rating)/(C + num_rating)\n",
    "\n",
    "movie_bayes_rating = {}\n",
    "for movie in movie_rating:\n",
    "    movie_bayes_rating[movie] = bayes_avg(movie_vote[movie], movie_rating[movie])\n",
    "    \n",
    "sorted(movie_bayes_rating.items(), key=lambda x: x[1], reverse=True)[:20]"
   ]
  },
  {
   "cell_type": "markdown",
   "metadata": {
    "collapsed": true
   },
   "source": [
    "# Q4: Median ratings of movies in each decade "
   ]
  },
  {
   "cell_type": "code",
   "execution_count": 24,
   "metadata": {
    "collapsed": false
   },
   "outputs": [
    {
     "name": "stdout",
     "output_type": "stream",
     "text": [
      "1870s 6.9\n",
      "1880s 5.7\n",
      "1890s 4.6\n",
      "1900s 5.1\n",
      "1910s 5.7\n",
      "1920s 6.1\n",
      "1930s 6.1\n",
      "1940s 6.3\n",
      "1950s 6.2\n",
      "1960s 6.3\n",
      "1970s 6.3\n",
      "1980s 6.3\n",
      "1990s 6.3\n",
      "2000s 6.6\n",
      "2010s 6.8\n"
     ]
    }
   ],
   "source": [
    "from collections import defaultdict\n",
    "\n",
    "dec_ratings = defaultdict(list)\n",
    "\n",
    "with open('imdb.csv') as f:\n",
    "    reader = csv.reader(f, delimiter='\\t')\n",
    "    for row in islice(reader, 1, None):\n",
    "        decade = row[1][:3] + '0s'\n",
    "        rating = float(row[2])\n",
    "        dec_ratings[decade].append(rating)\n",
    "        \n",
    "for decade in sorted(dec_ratings):\n",
    "    print(decade, np.median(dec_ratings[decade]))"
   ]
  },
  {
   "cell_type": "markdown",
   "metadata": {},
   "source": [
    "# Q5: 5 movies with highest ratings in each decade"
   ]
  },
  {
   "cell_type": "code",
   "execution_count": 31,
   "metadata": {
    "collapsed": false
   },
   "outputs": [
    {
     "name": "stdout",
     "output_type": "stream",
     "text": [
      "# 1870s\n",
      "7.3 Sallie Gardner at a Gallop\n",
      "6.5 Passage de Venus\n",
      "# 1880s\n",
      "7.7 Roundhay Garden Scene\n",
      "7.2 Traffic Crossing Leeds Bridge\n",
      "6.8 Leisurely Pedestrians, Open Topped Buses and Hansom Cabs with Trotting Horses\n",
      "5.7 Accordion Player\n",
      "5.7 Brighton Street Scene\n",
      "# 1890s\n",
      "8.3 Tossing a Nigger in a Blanket\n",
      "7.8 Dancing Darkies\n",
      "7.6 La lune à un mètre\n",
      "7.6 Un homme de têtes\n",
      "7.6 Yale Athletes Broad Jumping\n",
      "# 1900s\n",
      "8.4 Another Picture Showing Demonstration of a Pneumatic Shell Riveter\n",
      "8.4 Battle Royal\n",
      "8.4 The Laughing Nigger\n",
      "8.3 Halloween\n",
      "8.3 Your Dog Ate My Lunch Mum\n",
      "# 1910s\n",
      "8.9 Victorious Serbia\n",
      "8.8 Unfaithful\n",
      "8.8 Lincoln's Gettysburg Address\n",
      "8.8 A Régiséggyüjtö\n",
      "8.8 Dead Man's Shoes\n",
      "# 1920s\n",
      "8.9 Perekop\n",
      "8.9 Hot Doggie\n",
      "8.8 Balto's Race to Nome\n",
      "8.7 Scrooge\n",
      "8.6 A Briny Boob\n",
      "# 1930s\n",
      "9.3 Screen Snapshots Series 16, No. 8\n",
      "9.2 Screen Snapshots Series 15, No. 10\n",
      "9.2 Screen Snapshots Series 17, No. 5\n",
      "9.1 Screen Snapshots Series 16, No. 1\n",
      "9.1 Screen Snapshots Series 17, No. 9\n",
      "# 1940s\n",
      "8.9 Meet the Stars #7: Meet Roy Rogers\n",
      "8.9 Chudesnyy kolokolchik\n",
      "8.8 Terrain Difficulties in the East, Winter and Spring\n",
      "8.8 Bombalera\n",
      "8.8 Det grodde fram\n",
      "# 1950s\n",
      "9.0 The Twilight Zone\n",
      "8.9 Automehanika - Split\n",
      "8.9 12 Angry Men\n",
      "8.8 Unternehmen Xarifa\n",
      "8.8 Mr. Squiggle and Friends\n",
      "# 1960s\n",
      "9.0 Monty Python's Flying Circus\n",
      "8.9 Nu, pogodi!\n",
      "8.9 Kyoto\n",
      "8.9 Duel\n",
      "8.9 Mongolia\n",
      "# 1970s\n",
      "9.4 Hababam Sinifi\n",
      "9.3 The World at War\n",
      "9.2 The Godfather\n",
      "9.1 The Godfather: Part II\n",
      "9.1 Life on Earth\n",
      "# 1980s\n",
      "9.3 Cosmos\n",
      "9.2 Dekalog\n",
      "9.2 Mahabharat\n",
      "9.2 Malgudi Days\n",
      "9.2 My Private Party\n",
      "# 1990s\n",
      "9.8 Girls Loving Girls\n",
      "9.5 Nicole's Revenge\n",
      "9.4 The Civil War\n",
      "9.4 The Beatles Anthology\n",
      "9.3 Pink Floyd: P. U. L. S. E. Live at Earls Court\n",
      "# 2000s\n",
      "9.6 Band of Brothers\n",
      "9.6 The Cafeteria\n",
      "9.5 Breaking Bad\n",
      "9.5 Planet Earth\n",
      "9.4 The Wire\n",
      "# 2010s\n",
      "9.9 Adolfo Perez Esquivel: Rivers of Hope\n",
      "9.8 High-Rise\n",
      "9.8 The Red Shirt Diaries\n",
      "9.7 Mari White Presents the Newsboys\n",
      "9.6 A New Born\n"
     ]
    }
   ],
   "source": [
    "dec_movie_ratings = defaultdict(set)\n",
    "\n",
    "with open('imdb.csv') as f:\n",
    "    reader = csv.reader(f, delimiter='\\t')\n",
    "    for row in islice(reader, 1, None):\n",
    "        decade = row[1][:3] + '0s'\n",
    "        title = row[0]\n",
    "        rating = float(row[2])\n",
    "        dec_movie_ratings[decade].add( (title, rating) )\n",
    "        \n",
    "for decade in sorted(dec_movie_ratings):\n",
    "    print('#', decade)\n",
    "    for movie, rating in sorted(dec_movie_ratings[decade], key=lambda x: x[1], reverse=True)[:5]:\n",
    "        print(rating, movie)\n"
   ]
  },
  {
   "cell_type": "code",
   "execution_count": null,
   "metadata": {
    "collapsed": true
   },
   "outputs": [],
   "source": []
  }
 ],
 "metadata": {
  "kernelspec": {
   "display_name": "Python 3",
   "language": "python",
   "name": "python3"
  },
  "language_info": {
   "codemirror_mode": {
    "name": "ipython",
    "version": 3
   },
   "file_extension": ".py",
   "mimetype": "text/x-python",
   "name": "python",
   "nbconvert_exporter": "python",
   "pygments_lexer": "ipython3",
   "version": "3.4.3"
  }
 },
 "nbformat": 4,
 "nbformat_minor": 0
}
