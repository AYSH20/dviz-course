{
 "cells": [
  {
   "cell_type": "markdown",
   "metadata": {},
   "source": [
    "# W2 Lab Assignment\n",
    "\n",
    "Submit the .ipynb file to Canvas with file name 'lab02_lastname_firstname'.\n",
    "\n",
    "[Internet Movie Database (IMDb)](http://www.imdb.com/) provides various information about movies, such as total budgets, lengths, actors, and user ratings. They are publicly available from [here](http://www.imdb.com/interfaces). In this lab, let's explore a processed dataset named 'imdb.csv', which contains some basic information of movies.\n",
    "\n",
    "Download the file from Canvas. There are 4 columns separated by tab:\n",
    "\n",
    "1. Title: title of the movie;\n",
    "1. Year: release year;\n",
    "1. Rating: average IMDb user rating;\n",
    "1. Votes: number of IMDB users who rated this movie\n",
    "\n",
    "These are the questions to explore:\n",
    "\n",
    "1. What is the first and last year in this dataset? How many movies released in each year?\n",
    "1. What is the average ratings/votes?\n",
    "1. What are the 10 movies that have the highest ratings/votes?\n",
    "1. Get the median ratings of movies released in each decade?\n",
    "1. Get the 5 movies with highest ratings in 1980s and 1990s?\n",
    "\n",
    "Things to note:\n",
    "\n",
    "1. Let's use Python 3.4;\n",
    "2. There are 313,012 lines in the file. When printing things, print selectively.\n"
   ]
  },
  {
   "cell_type": "markdown",
   "metadata": {},
   "source": [
    "# Q1: How many movies released in each year?\n",
    "\n",
    "To do this, we first need to read the CSV file. Python provides the [csv](https://docs.python.org/2/library/csv.html) module to read and write CSV files. The [`csv.reader`](https://docs.python.org/2/library/csv.html#csv.reader) function returns a Python object which will iterate over lines in the given file. Each line is returned as a list of strings, so that we can access a particular column using list index. If we want to ignore the first line, we can use [`islice`](https://docs.python.org/2/library/itertools.html#itertools.islice). It is like slicing a list, but it can slice an iterator (e.g. file stream). For instance, `islice(reader, 0, 5)` means \"give me the first 5 items from the `reader`\". `islice(reader, 1, 5)` means \"give me the 4 items starting from the second item\". \n",
    "\n",
    "A basic usage example to read the first 11 lines of 'imdb.csv':"
   ]
  },
  {
   "cell_type": "code",
   "execution_count": 1,
   "metadata": {
    "collapsed": false
   },
   "outputs": [
    {
     "name": "stdout",
     "output_type": "stream",
     "text": [
      "['Title', 'Year', 'Rating', 'Votes']\n",
      "Year\n",
      "['!Next?', '1994', '5.4', '5']\n",
      "1994\n",
      "['#1 Single', '2006', '6.1', '61']\n",
      "2006\n",
      "['#7DaysLater', '2013', '7.1', '14']\n",
      "2013\n",
      "['#Bikerlive', '2014', '6.8', '11']\n",
      "2014\n",
      "['#ByMySide', '2012', '5.5', '13']\n",
      "2012\n",
      "['#LawstinWoods', '2013', '7.0', '6']\n",
      "2013\n",
      "['#lovemilla', '2013', '6.7', '17']\n",
      "2013\n",
      "['#nitTWITS', '2011', '7.1', '9']\n",
      "2011\n",
      "['$#*! My Dad Says', '2010', '6.3', '4349']\n",
      "2010\n",
      "['$1,000,000 Chance of a Lifetime', '1986', '6.4', '16']\n",
      "1986\n"
     ]
    }
   ],
   "source": [
    "import csv\n",
    "from itertools import islice\n",
    "\n",
    "f = open('imdb.csv', 'r')\n",
    "reader = csv.reader(f, delimiter='\\t')\n",
    "for row in islice(reader, 0, 11):\n",
    "    print(row)\n",
    "    print(row[1])"
   ]
  },
  {
   "cell_type": "markdown",
   "metadata": {},
   "source": [
    "There are many ways to do Q1. One way is to use [dictionaries](https://docs.python.org/2/tutorial/datastructures.html#dictionaries) where the key: value pairs are:\n",
    "\n",
    "- key: year\n",
    "- value: a list of movie titles or number of movies\n"
   ]
  },
  {
   "cell_type": "code",
   "execution_count": 4,
   "metadata": {
    "collapsed": false
   },
   "outputs": [
    {
     "name": "stdout",
     "output_type": "stream",
     "text": [
      "{1972: 1}\n"
     ]
    }
   ],
   "source": [
    "dt = {}\n",
    "year = 1972\n",
    "if year not in dt:\n",
    "    dt[year] = 1\n",
    "else:\n",
    "    dt[year] += 1\n",
    "print(dt)"
   ]
  },
  {
   "cell_type": "markdown",
   "metadata": {},
   "source": [
    "Python automates the job above by using [`Counter`](https://docs.python.org/3.4/library/collections.html#collections.Counter). "
   ]
  },
  {
   "cell_type": "code",
   "execution_count": 2,
   "metadata": {
    "collapsed": false
   },
   "outputs": [
    {
     "name": "stdout",
     "output_type": "stream",
     "text": [
      "1\n",
      "0\n"
     ]
    }
   ],
   "source": [
    "from collections import Counter\n",
    "\n",
    "movie_counter = Counter()\n",
    "movie_counter[1972] +=1 \n",
    "print(movie_counter[1972])\n",
    "print(movie_counter[1970])"
   ]
  },
  {
   "cell_type": "markdown",
   "metadata": {},
   "source": [
    "Once all lines are read, we want to print the dictionary, which can be done by iterating its key: value pairs."
   ]
  },
  {
   "cell_type": "code",
   "execution_count": 5,
   "metadata": {
    "collapsed": false
   },
   "outputs": [
    {
     "name": "stdout",
     "output_type": "stream",
     "text": [
      "(1972, 1)\n",
      "(1972, 1)\n"
     ]
    }
   ],
   "source": [
    "for key,val in dt.items():\n",
    "    print(key,val)\n",
    "for key,val in movie_counter.items():\n",
    "    print(key,val)"
   ]
  },
  {
   "cell_type": "markdown",
   "metadata": {},
   "source": [
    "You can get the keys (the years) by using `.keys()` function. "
   ]
  },
  {
   "cell_type": "code",
   "execution_count": 6,
   "metadata": {
    "collapsed": false
   },
   "outputs": [
    {
     "data": {
      "text/plain": [
       "[1980, 1972, 2015]"
      ]
     },
     "execution_count": 6,
     "metadata": {},
     "output_type": "execute_result"
    }
   ],
   "source": [
    "movie_counter[1980] += 5\n",
    "movie_counter[2015] += 1\n",
    "movie_counter.keys()"
   ]
  },
  {
   "cell_type": "markdown",
   "metadata": {},
   "source": [
    "and you have convenient functions like [`min()`](https://docs.python.org/2/library/functions.html#min) and [`max()`](https://docs.python.org/2/library/functions.html#max) for calculating the min and max value of a list or iterable. "
   ]
  },
  {
   "cell_type": "code",
   "execution_count": 25,
   "metadata": {
    "collapsed": false
   },
   "outputs": [
    {
     "name": "stdout",
     "output_type": "stream",
     "text": [
      "0\n",
      "1000\n"
     ]
    }
   ],
   "source": [
    "alist = [23,3,5,4,2,1,1,0,1000]\n",
    "print(min(alist))\n",
    "print(max(alist))"
   ]
  },
  {
   "cell_type": "markdown",
   "metadata": {},
   "source": [
    "**Code for Q1**"
   ]
  },
  {
   "cell_type": "code",
   "execution_count": 10,
   "metadata": {
    "collapsed": false
   },
   "outputs": [],
   "source": [
    "# implement below\n"
   ]
  },
  {
   "cell_type": "markdown",
   "metadata": {},
   "source": [
    "# Q2: Average ratings/votes\n",
    "\n",
    "We can store the ratings/votes column as a list and then calculate various basic statistics (mean, median, etc.). To do this, we can use the [NumPy](http://www.numpy.org/) library and call the function [`numpy.mean`](http://docs.scipy.org/doc/numpy/reference/generated/numpy.mean.html) and [`numpy.median`](http://docs.scipy.org/doc/numpy/reference/generated/numpy.median.html). For example,"
   ]
  },
  {
   "cell_type": "code",
   "execution_count": 7,
   "metadata": {
    "collapsed": false
   },
   "outputs": [
    {
     "name": "stdout",
     "output_type": "stream",
     "text": [
      "3.16666666667\n",
      "2.5\n"
     ]
    }
   ],
   "source": [
    "import numpy as np\n",
    "\n",
    "alist = [1,3,6,2,5,2]\n",
    "print(np.mean(alist))\n",
    "print(np.median(alist))"
   ]
  },
  {
   "cell_type": "markdown",
   "metadata": {},
   "source": [
    "**Code for Q2**"
   ]
  },
  {
   "cell_type": "code",
   "execution_count": null,
   "metadata": {
    "collapsed": false
   },
   "outputs": [],
   "source": [
    "# implement below\n"
   ]
  },
  {
   "cell_type": "markdown",
   "metadata": {},
   "source": [
    "# Q3: Top 10 movies\n",
    "\n",
    "Store the movie titles and ratings information as a dictonary:\n",
    "\n",
    "- key: movie title\n",
    "- value: movie rating\n",
    "\n",
    "Then, we can sort the dictionary based on its values, which will return a list of [tuples](https://docs.python.org/2/tutorial/datastructures.html#tuples-and-sequences). Note to print only the top 10 movies."
   ]
  },
  {
   "cell_type": "code",
   "execution_count": 10,
   "metadata": {
    "collapsed": false
   },
   "outputs": [
    {
     "name": "stdout",
     "output_type": "stream",
     "text": [
      "[(1981, 55), (1980, 50), (1975, 10), (1971, 2), (1962, 1)]\n",
      "(1981, 55)\n",
      "(1980, 50)\n",
      "(1975, 10)\n",
      "(1971, 2)\n",
      "(1962, 1)\n"
     ]
    }
   ],
   "source": [
    "import operator\n",
    "\n",
    "dt = {1971: 2, 1975: 10, 1962: 1, 1980: 50, 1981: 55}\n",
    "sorted_x_by_val = sorted( dt.items(), key=operator.itemgetter(1), reverse=True )\n",
    "print(sorted_x_by_val)\n",
    "for elem in sorted_x_by_val:\n",
    "    print(elem[0],elem[1])"
   ]
  },
  {
   "cell_type": "markdown",
   "metadata": {},
   "source": [
    "**Code for Q3**"
   ]
  },
  {
   "cell_type": "code",
   "execution_count": 6,
   "metadata": {
    "collapsed": false
   },
   "outputs": [],
   "source": [
    "# implement below\n"
   ]
  },
  {
   "cell_type": "markdown",
   "metadata": {},
   "source": [
    "# Q4: Median ratings of movies in each decade\n",
    "\n",
    "We first need to transform year to decade, e.g., 1984 -> 1980s.\n"
   ]
  },
  {
   "cell_type": "code",
   "execution_count": 13,
   "metadata": {
    "collapsed": false
   },
   "outputs": [
    {
     "name": "stdout",
     "output_type": "stream",
     "text": [
      "198\n",
      "1980s\n"
     ]
    }
   ],
   "source": [
    "year = '1984'\n",
    "print(year[:3])\n",
    "print(year[:3]+'0s')"
   ]
  },
  {
   "cell_type": "markdown",
   "metadata": {},
   "source": [
    "We then use a dictionary to store rating information:\n",
    "\n",
    "- key: decade\n",
    "- value: a list of ratings of movies released in the decade\n"
   ]
  },
  {
   "cell_type": "code",
   "execution_count": 15,
   "metadata": {
    "collapsed": false
   },
   "outputs": [
    {
     "name": "stdout",
     "output_type": "stream",
     "text": [
      "{'1980s': [7.5]}\n"
     ]
    }
   ],
   "source": [
    "decade_to_r = {}\n",
    "decade = '1980s'\n",
    "if decade not in decade_to_r:\n",
    "    decade_to_r[decade] = []\n",
    "decade_to_r[decade].append(7.5)\n",
    "print(decade_to_r)"
   ]
  },
  {
   "cell_type": "markdown",
   "metadata": {},
   "source": [
    "Python automates the job above by using [defaultdict](https://docs.python.org/2/library/collections.html#collections.defaultdict)."
   ]
  },
  {
   "cell_type": "code",
   "execution_count": 17,
   "metadata": {
    "collapsed": false
   },
   "outputs": [
    {
     "name": "stdout",
     "output_type": "stream",
     "text": [
      "defaultdict(<type 'list'>, {'1980s': [7.5, 9.1]})\n",
      "[]\n"
     ]
    }
   ],
   "source": [
    "from collections import defaultdict\n",
    "\n",
    "dec_to_r = defaultdict(list)\n",
    "dec_to_r['1980s'].append(7.5)\n",
    "dec_to_r['1980s'].append(9.1)\n",
    "print(dec_to_r)\n",
    "print(dec_to_r['1970s'])"
   ]
  },
  {
   "cell_type": "markdown",
   "metadata": {},
   "source": [
    "**Code for Q4**"
   ]
  },
  {
   "cell_type": "code",
   "execution_count": 8,
   "metadata": {
    "collapsed": false
   },
   "outputs": [],
   "source": [
    "# implement below"
   ]
  },
  {
   "cell_type": "markdown",
   "metadata": {},
   "source": [
    "# Q5: 5 movies with highest ratings in each decade"
   ]
  },
  {
   "cell_type": "markdown",
   "metadata": {},
   "source": [
    "Differnt from Q4, we now need to store not only ratings but also movie titles. This can be done by setting vaules in the dictonary as dictonaries.\n",
    "\n",
    "- key: decade\n",
    "- value: a dictonary mapping from movie titles to ratings\n"
   ]
  },
  {
   "cell_type": "code",
   "execution_count": 19,
   "metadata": {
    "collapsed": false
   },
   "outputs": [
    {
     "name": "stdout",
     "output_type": "stream",
     "text": [
      "defaultdict(<type 'dict'>, {'1970s': {'The Godfather': 9.2}})\n",
      "{'The Godfather': 9.2}\n"
     ]
    }
   ],
   "source": [
    "dec_to_title_to_rating = defaultdict(dict)\n",
    "dec_to_title_to_rating['1970s']['The Godfather'] = 9.2\n",
    "print(dec_to_title_to_rating)\n",
    "print(dec_to_title_to_rating['1970s'])"
   ]
  },
  {
   "cell_type": "markdown",
   "metadata": {},
   "source": [
    "**Code for Q5**"
   ]
  },
  {
   "cell_type": "code",
   "execution_count": 10,
   "metadata": {
    "collapsed": false
   },
   "outputs": [],
   "source": [
    "# implement below\n"
   ]
  },
  {
   "cell_type": "code",
   "execution_count": null,
   "metadata": {
    "collapsed": false
   },
   "outputs": [],
   "source": []
  }
 ],
 "metadata": {
  "kernelspec": {
   "display_name": "Python 3",
   "language": "python",
   "name": "python3"
  },
  "language_info": {
   "codemirror_mode": {
    "name": "ipython",
    "version": 3
   },
   "file_extension": ".py",
   "mimetype": "text/x-python",
   "name": "python",
   "nbconvert_exporter": "python",
   "pygments_lexer": "ipython3",
   "version": "3.3.5"
  }
 },
 "nbformat": 4,
 "nbformat_minor": 0
}
