{
 "cells": [
  {
   "cell_type": "markdown",
   "metadata": {},
   "source": [
    "# Lab 1 Introducing Python stack\n",
    "\n",
    "\n",
    "\n",
    " 1. Download and install Anaconda on your laptop. Here is the link for downloading: http://continuum.io/downloads.\n",
    "\n",
    " 1. Figure out what the followings are by visiting their web sites. What are the libraries for visualizing data? Browse the gallaries of these libraries.\n",
    "\n",
    "  * IPython Notebook: http://ipython.org/notebook.html\n",
    "  * NumPy: http://www.numpy.org/\n",
    "  * SciPy: http://www.scipy.org/\n",
    "  * matplotlib: http://matplotlib.org/\n",
    "  * seaborn: http://stanford.edu/~mwaskom/software/seaborn/\n",
    "  * bokeh: http://bokeh.pydata.org/en/latest/\n",
    "  * pandas: http://pandas.pydata.org/\n",
    "  * scikit-learn: http://scikit-learn.org/stable/\n",
    "  * statsmodel: http://statsmodels.sourceforge.net/\n",
    "  \n",
    " 1. Run **ipython notebook** from terminal. What do you see? Can you create a new notebook?\n",
    "\n",
    " 1. Run the \"Hello world!\" code below in your created notebook\n",
    "\n",
    "    ```\n",
    "    print 'Hello world!'\n",
    "    ```\n",
    "\n",
    " 1. Read the following tutorials and run the code that you do not understand\n",
    "  \n",
    "  * https://docs.python.org/3.4/tutorial/introduction.html\n",
    "  * https://docs.python.org/3.4/tutorial/controlflow.html\n",
    "  \n",
    " 1. Rename your notebook as this 'lab01_lastname_firstname'. Keep and bring it to lab."
   ]
  },
  {
   "cell_type": "code",
   "execution_count": null,
   "metadata": {
    "collapsed": true
   },
   "outputs": [],
   "source": []
  }
 ],
 "metadata": {
  "kernelspec": {
   "display_name": "Python 3",
   "language": "python",
   "name": "python3"
  },
  "language_info": {
   "codemirror_mode": {
    "name": "ipython",
    "version": 3
   },
   "file_extension": ".py",
   "mimetype": "text/x-python",
   "name": "python",
   "nbconvert_exporter": "python",
   "pygments_lexer": "ipython3",
   "version": "3.4.4"
  }
 },
 "nbformat": 4,
 "nbformat_minor": 0
}
